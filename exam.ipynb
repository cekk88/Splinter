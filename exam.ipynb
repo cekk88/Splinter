{
 "cells": [
  {
   "cell_type": "markdown",
   "metadata": {},
   "source": [
    "### PROGETTO FOUNDATION OF COMPUTER SCIENCE"
   ]
  },
  {
   "cell_type": "code",
   "execution_count": 85,
   "metadata": {},
   "outputs": [],
   "source": [
    "import pandas as pd\n",
    "import numpy as np\n",
    "import ast\n",
    "credits = pd.read_csv(\"C:/Users/alexc/Documents/python_lab/movies/tmdb_5000_credits.csv\")\n",
    "credits.cast = credits.cast.apply(ast.literal_eval)\n",
    "credits.crew = credits.crew.apply(ast.literal_eval)\n",
    "movies = pd.read_csv(\"C:/Users/alexc/Documents/python_lab/movies/tmdb_5000_movies.csv\")\n",
    "movies.genres = movies.genres.apply(ast.literal_eval)\n",
    "movies.keywords = movies.keywords.apply(ast.literal_eval)\n",
    "movies.production_companies = movies.production_companies.apply(ast.literal_eval)\n",
    "movies.production_countries = movies.production_countries.apply(ast.literal_eval)\n",
    "movies.spoken_languages = movies.spoken_languages.apply(ast.literal_eval)"
   ]
  },
  {
   "cell_type": "markdown",
   "metadata": {},
   "source": [
    "1) For each movie, compute the number of cast members."
   ]
  },
  {
   "cell_type": "code",
   "execution_count": 133,
   "metadata": {},
   "outputs": [
    {
     "data": {
      "text/plain": [
       "0                                      [Avatar, 83]\n",
       "1    [Pirates of the Caribbean: At World's End, 34]\n",
       "2                                     [Spectre, 83]\n",
       "3                      [The Dark Knight Rises, 158]\n",
       "4                                 [John Carter, 27]\n",
       "dtype: object"
      ]
     },
     "execution_count": 133,
     "metadata": {},
     "output_type": "execute_result"
    }
   ],
   "source": [
    "def cast_members(movie):    \n",
    "    return [movie.title,len(movie.cast)]\n",
    "num_cast = credits.apply(cast_members, axis=1)\n",
    "num_cast.head()"
   ]
  },
  {
   "cell_type": "markdown",
   "metadata": {},
   "source": [
    "2) How many movies do not have a homepage?"
   ]
  },
  {
   "cell_type": "code",
   "execution_count": 87,
   "metadata": {},
   "outputs": [
    {
     "data": {
      "text/plain": [
       "3091"
      ]
     },
     "execution_count": 87,
     "metadata": {},
     "output_type": "execute_result"
    }
   ],
   "source": [
    "movies.homepage.isnull().sum()"
   ]
  },
  {
   "cell_type": "markdown",
   "metadata": {},
   "source": [
    "3) For each year, how many movies do not have a homepage?"
   ]
  },
  {
   "cell_type": "code",
   "execution_count": 178,
   "metadata": {},
   "outputs": [],
   "source": [
    "movies2 = movies[movies.release_date.notnull()]"
   ]
  },
  {
   "cell_type": "code",
   "execution_count": 108,
   "metadata": {},
   "outputs": [],
   "source": [
    "def estrai_anno(data):\n",
    "    assert len(data)==10\n",
    "    return(data[0:4]) "
   ]
  },
  {
   "cell_type": "code",
   "execution_count": 180,
   "metadata": {},
   "outputs": [
    {
     "data": {
      "text/plain": [
       "year\n",
       "1916    1\n",
       "1925    1\n",
       "1927    1\n",
       "1929    2\n",
       "1930    1\n",
       "dtype: int64"
      ]
     },
     "execution_count": 180,
     "metadata": {},
     "output_type": "execute_result"
    }
   ],
   "source": [
    "movies2 = movies2[movies2.homepage.isnull()]\n",
    "movies2[\"year\"] = movies2.release_date.apply(estrai_anno)\n",
    "movies2.groupby(\"year\").size().head()"
   ]
  },
  {
   "cell_type": "markdown",
   "metadata": {},
   "source": [
    "4) Extract the domain of each homepage."
   ]
  },
  {
   "cell_type": "code",
   "execution_count": 174,
   "metadata": {},
   "outputs": [],
   "source": [
    "movies3 = movies[movies.homepage.notnull()]"
   ]
  },
  {
   "cell_type": "code",
   "execution_count": 188,
   "metadata": {},
   "outputs": [],
   "source": [
    "import re\n",
    "def estrai_dominio(url):\n",
    "    assert re.search('http[s]*://', url)\n",
    "    return(url.split('/')[2].split('.')[-1])"
   ]
  },
  {
   "cell_type": "code",
   "execution_count": 189,
   "metadata": {},
   "outputs": [
    {
     "name": "stderr",
     "output_type": "stream",
     "text": [
      "C:\\Users\\alexc\\Anaconda3\\lib\\site-packages\\ipykernel_launcher.py:1: SettingWithCopyWarning: \n",
      "A value is trying to be set on a copy of a slice from a DataFrame.\n",
      "Try using .loc[row_indexer,col_indexer] = value instead\n",
      "\n",
      "See the caveats in the documentation: http://pandas.pydata.org/pandas-docs/stable/indexing.html#indexing-view-versus-copy\n",
      "  \"\"\"Entry point for launching an IPython kernel.\n"
     ]
    },
    {
     "data": {
      "text/html": [
       "<div>\n",
       "<style>\n",
       "    .dataframe thead tr:only-child th {\n",
       "        text-align: right;\n",
       "    }\n",
       "\n",
       "    .dataframe thead th {\n",
       "        text-align: left;\n",
       "    }\n",
       "\n",
       "    .dataframe tbody tr th {\n",
       "        vertical-align: top;\n",
       "    }\n",
       "</style>\n",
       "<table border=\"1\" class=\"dataframe\">\n",
       "  <thead>\n",
       "    <tr style=\"text-align: right;\">\n",
       "      <th></th>\n",
       "      <th>homepage</th>\n",
       "      <th>dominio</th>\n",
       "    </tr>\n",
       "  </thead>\n",
       "  <tbody>\n",
       "    <tr>\n",
       "      <th>0</th>\n",
       "      <td>http://www.avatarmovie.com/</td>\n",
       "      <td>com</td>\n",
       "    </tr>\n",
       "    <tr>\n",
       "      <th>1</th>\n",
       "      <td>http://disney.go.com/disneypictures/pirates/</td>\n",
       "      <td>com</td>\n",
       "    </tr>\n",
       "    <tr>\n",
       "      <th>2</th>\n",
       "      <td>http://www.sonypictures.com/movies/spectre/</td>\n",
       "      <td>com</td>\n",
       "    </tr>\n",
       "    <tr>\n",
       "      <th>3</th>\n",
       "      <td>http://www.thedarkknightrises.com/</td>\n",
       "      <td>com</td>\n",
       "    </tr>\n",
       "    <tr>\n",
       "      <th>4</th>\n",
       "      <td>http://movies.disney.com/john-carter</td>\n",
       "      <td>com</td>\n",
       "    </tr>\n",
       "  </tbody>\n",
       "</table>\n",
       "</div>"
      ],
      "text/plain": [
       "                                       homepage dominio\n",
       "0                   http://www.avatarmovie.com/     com\n",
       "1  http://disney.go.com/disneypictures/pirates/     com\n",
       "2   http://www.sonypictures.com/movies/spectre/     com\n",
       "3            http://www.thedarkknightrises.com/     com\n",
       "4          http://movies.disney.com/john-carter     com"
      ]
     },
     "execution_count": 189,
     "metadata": {},
     "output_type": "execute_result"
    }
   ],
   "source": [
    "movies3[\"dominio\"] = movies3.homepage.apply(estrai_dominio)\n",
    "movies3[[\"homepage\",\"dominio\"]].head()"
   ]
  },
  {
   "cell_type": "markdown",
   "metadata": {},
   "source": [
    "5) Extract a set of normalized tables. That is, each entry of a normalized table must contain exactly one value (not a list or a dictionary)."
   ]
  },
  {
   "cell_type": "markdown",
   "metadata": {},
   "source": [
    "6) For each movie, compute the gross margin (difference between revenue and budget)."
   ]
  },
  {
   "cell_type": "code",
   "execution_count": null,
   "metadata": {
    "collapsed": true
   },
   "outputs": [],
   "source": []
  },
  {
   "cell_type": "markdown",
   "metadata": {},
   "source": [
    "7) For each movie, compute the number of crew members."
   ]
  },
  {
   "cell_type": "markdown",
   "metadata": {},
   "source": [
    "8) For each movie, compute the number of directors."
   ]
  },
  {
   "cell_type": "markdown",
   "metadata": {},
   "source": [
    "9) For each language, compute the number of movies where such language is spoken."
   ]
  },
  {
   "cell_type": "markdown",
   "metadata": {},
   "source": [
    "10) For each company and each decade, compute the overall revenue."
   ]
  },
  {
   "cell_type": "markdown",
   "metadata": {},
   "source": [
    "11) For each decade, compute the company with maximum revenue."
   ]
  },
  {
   "cell_type": "markdown",
   "metadata": {},
   "source": [
    "12) In each year, how many movies have revenue smaller than the budget?"
   ]
  },
  {
   "cell_type": "code",
   "execution_count": null,
   "metadata": {
    "collapsed": true
   },
   "outputs": [],
   "source": []
  }
 ],
 "metadata": {
  "kernelspec": {
   "display_name": "Python 3",
   "language": "python",
   "name": "python3"
  },
  "language_info": {
   "codemirror_mode": {
    "name": "ipython",
    "version": 3
   },
   "file_extension": ".py",
   "mimetype": "text/x-python",
   "name": "python",
   "nbconvert_exporter": "python",
   "pygments_lexer": "ipython3",
   "version": "3.6.3"
  }
 },
 "nbformat": 4,
 "nbformat_minor": 2
}
