{
 "cells": [
  {
   "cell_type": "markdown",
   "metadata": {},
   "source": [
    "### PROGETTO FOUNDATION OF COMPUTER SCIENCE"
   ]
  },
  {
   "cell_type": "code",
   "execution_count": 1,
   "metadata": {
    "collapsed": true
   },
   "outputs": [],
   "source": [
    "import pandas as pd\n",
    "import numpy as np\n",
    "import ast\n",
    "import re\n",
    "credits = pd.read_csv(\"C:/Users/alexc/Documents/python_lab/movies/tmdb_5000_credits.csv\")\n",
    "credits.cast = credits.cast.apply(ast.literal_eval)\n",
    "credits.crew = credits.crew.apply(ast.literal_eval)\n",
    "movies = pd.read_csv(\"C:/Users/alexc/Documents/python_lab/movies/tmdb_5000_movies.csv\")\n",
    "movies.genres = movies.genres.apply(ast.literal_eval)\n",
    "movies.keywords = movies.keywords.apply(ast.literal_eval)\n",
    "movies.production_companies = movies.production_companies.apply(ast.literal_eval)\n",
    "movies.production_countries = movies.production_countries.apply(ast.literal_eval)\n",
    "movies.spoken_languages = movies.spoken_languages.apply(ast.literal_eval)"
   ]
  },
  {
   "cell_type": "markdown",
   "metadata": {},
   "source": [
    "1) For each movie, compute the number of cast members."
   ]
  },
  {
   "cell_type": "code",
   "execution_count": 2,
   "metadata": {
    "collapsed": true
   },
   "outputs": [],
   "source": [
    "def cast_members(movie):    \n",
    "    return [movie.title, len(movie.cast)]"
   ]
  },
  {
   "cell_type": "code",
   "execution_count": 3,
   "metadata": {},
   "outputs": [
    {
     "data": {
      "text/plain": [
       "0                                      [Avatar, 83]\n",
       "1    [Pirates of the Caribbean: At World's End, 34]\n",
       "2                                     [Spectre, 83]\n",
       "3                      [The Dark Knight Rises, 158]\n",
       "4                                 [John Carter, 27]\n",
       "dtype: object"
      ]
     },
     "execution_count": 3,
     "metadata": {},
     "output_type": "execute_result"
    }
   ],
   "source": [
    "num_cast = credits.apply(cast_members, axis=1)\n",
    "num_cast.head()"
   ]
  },
  {
   "cell_type": "markdown",
   "metadata": {},
   "source": [
    "2) How many movies do not have a homepage?"
   ]
  },
  {
   "cell_type": "code",
   "execution_count": 4,
   "metadata": {},
   "outputs": [
    {
     "data": {
      "text/plain": [
       "3091"
      ]
     },
     "execution_count": 4,
     "metadata": {},
     "output_type": "execute_result"
    }
   ],
   "source": [
    "movies.homepage.isnull().sum()"
   ]
  },
  {
   "cell_type": "markdown",
   "metadata": {},
   "source": [
    "3) For each year, how many movies do not have a homepage?"
   ]
  },
  {
   "cell_type": "code",
   "execution_count": 5,
   "metadata": {
    "collapsed": true
   },
   "outputs": [],
   "source": [
    "movies2 = movies[(movies.release_date.notnull())&(movies.homepage.isnull())]\n",
    "movies2 = movies2.reset_index()\n",
    "del movies2['index']"
   ]
  },
  {
   "cell_type": "code",
   "execution_count": 6,
   "metadata": {
    "collapsed": true
   },
   "outputs": [],
   "source": [
    "def estrai_anno(data):\n",
    "    assert re.search('\\d\\d\\d\\d\\-\\d\\d\\-\\d\\d', data)\n",
    "    return(data[0:4]) "
   ]
  },
  {
   "cell_type": "code",
   "execution_count": 7,
   "metadata": {},
   "outputs": [
    {
     "data": {
      "text/plain": [
       "year\n",
       "1916    1\n",
       "1925    1\n",
       "1927    1\n",
       "1929    2\n",
       "1930    1\n",
       "dtype: int64"
      ]
     },
     "execution_count": 7,
     "metadata": {},
     "output_type": "execute_result"
    }
   ],
   "source": [
    "movies2['year'] = movies2.release_date.apply(estrai_anno)\n",
    "movies2.groupby('year').size().head()"
   ]
  },
  {
   "cell_type": "markdown",
   "metadata": {},
   "source": [
    "4) Extract the domain of each homepage."
   ]
  },
  {
   "cell_type": "code",
   "execution_count": 8,
   "metadata": {
    "collapsed": true
   },
   "outputs": [],
   "source": [
    "movies3 = movies[movies.homepage.notnull()]\n",
    "movies3 = movies3.reset_index()\n",
    "del movies3['index']"
   ]
  },
  {
   "cell_type": "code",
   "execution_count": 9,
   "metadata": {
    "collapsed": true
   },
   "outputs": [],
   "source": [
    "def estrai_dominio(url):\n",
    "    assert re.search('^https*://', url)\n",
    "    website = re.split('[/ ]+', url)[1]\n",
    "    assert re.search('\\.[a-z]+/*$', website)\n",
    "    return(re.search('\\.[a-z]+/*$', website).group(0))"
   ]
  },
  {
   "cell_type": "code",
   "execution_count": 10,
   "metadata": {},
   "outputs": [
    {
     "data": {
      "text/plain": [
       "dominio\n",
       ".au    3\n",
       ".br    1\n",
       ".ca    5\n",
       ".cc    2\n",
       ".ch    1\n",
       "dtype: int64"
      ]
     },
     "execution_count": 10,
     "metadata": {},
     "output_type": "execute_result"
    }
   ],
   "source": [
    "movies3['dominio'] = movies3.homepage.apply(estrai_dominio)\n",
    "movies3.groupby('dominio').size().head()"
   ]
  },
  {
   "cell_type": "code",
   "execution_count": 11,
   "metadata": {},
   "outputs": [
    {
     "data": {
      "text/html": [
       "<div>\n",
       "<style>\n",
       "    .dataframe thead tr:only-child th {\n",
       "        text-align: right;\n",
       "    }\n",
       "\n",
       "    .dataframe thead th {\n",
       "        text-align: left;\n",
       "    }\n",
       "\n",
       "    .dataframe tbody tr th {\n",
       "        vertical-align: top;\n",
       "    }\n",
       "</style>\n",
       "<table border=\"1\" class=\"dataframe\">\n",
       "  <thead>\n",
       "    <tr style=\"text-align: right;\">\n",
       "      <th></th>\n",
       "      <th>budget</th>\n",
       "      <th>genres</th>\n",
       "      <th>homepage</th>\n",
       "      <th>id</th>\n",
       "      <th>keywords</th>\n",
       "      <th>original_language</th>\n",
       "      <th>original_title</th>\n",
       "      <th>overview</th>\n",
       "      <th>popularity</th>\n",
       "      <th>production_companies</th>\n",
       "      <th>...</th>\n",
       "      <th>release_date</th>\n",
       "      <th>revenue</th>\n",
       "      <th>runtime</th>\n",
       "      <th>spoken_languages</th>\n",
       "      <th>status</th>\n",
       "      <th>tagline</th>\n",
       "      <th>title</th>\n",
       "      <th>vote_average</th>\n",
       "      <th>vote_count</th>\n",
       "      <th>dominio</th>\n",
       "    </tr>\n",
       "  </thead>\n",
       "  <tbody>\n",
       "    <tr>\n",
       "      <th>1403</th>\n",
       "      <td>0</td>\n",
       "      <td>[{'id': 53, 'name': 'Thriller'}, {'id': 9648, ...</td>\n",
       "      <td>http://www.cargoderfilm.ch http://cargothemovi...</td>\n",
       "      <td>34069</td>\n",
       "      <td>[{'id': 3388, 'name': 'space colony'}, {'id': ...</td>\n",
       "      <td>de</td>\n",
       "      <td>Cargo</td>\n",
       "      <td>The story of CARGO takes place on rusty space-...</td>\n",
       "      <td>10.142218</td>\n",
       "      <td>[{'name': 'Telepool', 'id': 823}, {'name': 'At...</td>\n",
       "      <td>...</td>\n",
       "      <td>2009-09-24</td>\n",
       "      <td>0</td>\n",
       "      <td>120.0</td>\n",
       "      <td>[{'iso_639_1': 'fr', 'name': 'Français'}, {'is...</td>\n",
       "      <td>Released</td>\n",
       "      <td>NaN</td>\n",
       "      <td>Cargo</td>\n",
       "      <td>5.9</td>\n",
       "      <td>140</td>\n",
       "      <td>.ch</td>\n",
       "    </tr>\n",
       "  </tbody>\n",
       "</table>\n",
       "<p>1 rows × 21 columns</p>\n",
       "</div>"
      ],
      "text/plain": [
       "      budget                                             genres  \\\n",
       "1403       0  [{'id': 53, 'name': 'Thriller'}, {'id': 9648, ...   \n",
       "\n",
       "                                               homepage     id  \\\n",
       "1403  http://www.cargoderfilm.ch http://cargothemovi...  34069   \n",
       "\n",
       "                                               keywords original_language  \\\n",
       "1403  [{'id': 3388, 'name': 'space colony'}, {'id': ...                de   \n",
       "\n",
       "     original_title                                           overview  \\\n",
       "1403          Cargo  The story of CARGO takes place on rusty space-...   \n",
       "\n",
       "      popularity                               production_companies   ...     \\\n",
       "1403   10.142218  [{'name': 'Telepool', 'id': 823}, {'name': 'At...   ...      \n",
       "\n",
       "     release_date revenue  runtime  \\\n",
       "1403   2009-09-24       0    120.0   \n",
       "\n",
       "                                       spoken_languages    status tagline  \\\n",
       "1403  [{'iso_639_1': 'fr', 'name': 'Français'}, {'is...  Released     NaN   \n",
       "\n",
       "      title vote_average  vote_count  dominio  \n",
       "1403  Cargo          5.9         140      .ch  \n",
       "\n",
       "[1 rows x 21 columns]"
      ]
     },
     "execution_count": 11,
     "metadata": {},
     "output_type": "execute_result"
    }
   ],
   "source": [
    "def multi_homepage(url):\n",
    "    urls = re.split(' ', url)\n",
    "    if len(urls) == 1:\n",
    "        return(False)\n",
    "    else:\n",
    "        return(True)\n",
    "multi = movies3.homepage.apply(multi_homepage)\n",
    "movies3[multi]"
   ]
  },
  {
   "cell_type": "markdown",
   "metadata": {},
   "source": [
    "5) Extract a set of normalized tables. That is, each entry of a normalized table must contain exactly one value (not a list or a dictionary)."
   ]
  },
  {
   "cell_type": "markdown",
   "metadata": {},
   "source": [
    "6) For each movie, compute the gross margin (difference between revenue and budget)."
   ]
  },
  {
   "cell_type": "code",
   "execution_count": 12,
   "metadata": {
    "collapsed": true
   },
   "outputs": [],
   "source": [
    "def compute_margin(film):\n",
    "    assert (film.budget != None)|(film.revenue != None)\n",
    "    return (film.revenue - film.budget)"
   ]
  },
  {
   "cell_type": "code",
   "execution_count": 13,
   "metadata": {},
   "outputs": [
    {
     "data": {
      "text/html": [
       "<div>\n",
       "<style>\n",
       "    .dataframe thead tr:only-child th {\n",
       "        text-align: right;\n",
       "    }\n",
       "\n",
       "    .dataframe thead th {\n",
       "        text-align: left;\n",
       "    }\n",
       "\n",
       "    .dataframe tbody tr th {\n",
       "        vertical-align: top;\n",
       "    }\n",
       "</style>\n",
       "<table border=\"1\" class=\"dataframe\">\n",
       "  <thead>\n",
       "    <tr style=\"text-align: right;\">\n",
       "      <th></th>\n",
       "      <th>title</th>\n",
       "      <th>revenue</th>\n",
       "      <th>budget</th>\n",
       "      <th>gross_margin</th>\n",
       "    </tr>\n",
       "  </thead>\n",
       "  <tbody>\n",
       "    <tr>\n",
       "      <th>0</th>\n",
       "      <td>Avatar</td>\n",
       "      <td>2787965087</td>\n",
       "      <td>237000000</td>\n",
       "      <td>2550965087</td>\n",
       "    </tr>\n",
       "    <tr>\n",
       "      <th>1</th>\n",
       "      <td>Pirates of the Caribbean: At World's End</td>\n",
       "      <td>961000000</td>\n",
       "      <td>300000000</td>\n",
       "      <td>661000000</td>\n",
       "    </tr>\n",
       "    <tr>\n",
       "      <th>2</th>\n",
       "      <td>Spectre</td>\n",
       "      <td>880674609</td>\n",
       "      <td>245000000</td>\n",
       "      <td>635674609</td>\n",
       "    </tr>\n",
       "    <tr>\n",
       "      <th>3</th>\n",
       "      <td>The Dark Knight Rises</td>\n",
       "      <td>1084939099</td>\n",
       "      <td>250000000</td>\n",
       "      <td>834939099</td>\n",
       "    </tr>\n",
       "    <tr>\n",
       "      <th>4</th>\n",
       "      <td>John Carter</td>\n",
       "      <td>284139100</td>\n",
       "      <td>260000000</td>\n",
       "      <td>24139100</td>\n",
       "    </tr>\n",
       "  </tbody>\n",
       "</table>\n",
       "</div>"
      ],
      "text/plain": [
       "                                      title     revenue     budget  \\\n",
       "0                                    Avatar  2787965087  237000000   \n",
       "1  Pirates of the Caribbean: At World's End   961000000  300000000   \n",
       "2                                   Spectre   880674609  245000000   \n",
       "3                     The Dark Knight Rises  1084939099  250000000   \n",
       "4                               John Carter   284139100  260000000   \n",
       "\n",
       "   gross_margin  \n",
       "0    2550965087  \n",
       "1     661000000  \n",
       "2     635674609  \n",
       "3     834939099  \n",
       "4      24139100  "
      ]
     },
     "execution_count": 13,
     "metadata": {},
     "output_type": "execute_result"
    }
   ],
   "source": [
    "movies['gross_margin'] = movies.apply(compute_margin, axis=1)\n",
    "movies[['title', 'revenue', 'budget', 'gross_margin']].head()"
   ]
  },
  {
   "cell_type": "markdown",
   "metadata": {},
   "source": [
    "7) For each movie, compute the number of crew members."
   ]
  },
  {
   "cell_type": "code",
   "execution_count": 14,
   "metadata": {
    "collapsed": true
   },
   "outputs": [],
   "source": [
    "def crew_members(movie):\n",
    "    lista = []\n",
    "    for el in movie.crew:\n",
    "        if el['id'] in lista:\n",
    "            pass\n",
    "        else:\n",
    "            lista.append(el['id'])\n",
    "    return [movie.title, len(lista)]"
   ]
  },
  {
   "cell_type": "code",
   "execution_count": 15,
   "metadata": {},
   "outputs": [
    {
     "data": {
      "text/plain": [
       "0                                     [Avatar, 146]\n",
       "1    [Pirates of the Caribbean: At World's End, 32]\n",
       "2                                    [Spectre, 150]\n",
       "3                      [The Dark Knight Rises, 210]\n",
       "4                                [John Carter, 129]\n",
       "dtype: object"
      ]
     },
     "execution_count": 15,
     "metadata": {},
     "output_type": "execute_result"
    }
   ],
   "source": [
    "num_crew = credits.apply(crew_members, axis=1)\n",
    "num_crew.head()"
   ]
  },
  {
   "cell_type": "markdown",
   "metadata": {},
   "source": [
    "8) For each movie, compute the number of directors."
   ]
  },
  {
   "cell_type": "code",
   "execution_count": 16,
   "metadata": {
    "collapsed": true
   },
   "outputs": [],
   "source": [
    "def find_director(movie):\n",
    "    lista = []\n",
    "    for el in movie.crew:\n",
    "        if el['job'].lower()=='director':\n",
    "            lista.append(el['id'])\n",
    "    return [movie.title, len(lista)]"
   ]
  },
  {
   "cell_type": "code",
   "execution_count": 17,
   "metadata": {},
   "outputs": [
    {
     "data": {
      "text/plain": [
       "0                                      [Avatar, 1]\n",
       "1    [Pirates of the Caribbean: At World's End, 1]\n",
       "2                                     [Spectre, 1]\n",
       "3                       [The Dark Knight Rises, 1]\n",
       "4                                 [John Carter, 1]\n",
       "dtype: object"
      ]
     },
     "execution_count": 17,
     "metadata": {},
     "output_type": "execute_result"
    }
   ],
   "source": [
    "num_dir = credits.apply(find_director, axis=1)\n",
    "num_dir.head()"
   ]
  },
  {
   "cell_type": "markdown",
   "metadata": {},
   "source": [
    "9) For each language, compute the number of movies where such language is spoken."
   ]
  },
  {
   "cell_type": "code",
   "execution_count": 18,
   "metadata": {
    "collapsed": true
   },
   "outputs": [],
   "source": [
    "def lingue_film(film):\n",
    "    num_lingue = len(film.spoken_languages)\n",
    "    for i in list(range(0, num_lingue)):\n",
    "        if film.spoken_languages[i]['iso_639_1'] in list(lingue_parlate.keys()):\n",
    "            lingue_parlate[film.spoken_languages[i]['iso_639_1']] += 1\n",
    "        else:\n",
    "            lingue_parlate [film.spoken_languages[i]['iso_639_1']] = 1"
   ]
  },
  {
   "cell_type": "code",
   "execution_count": 19,
   "metadata": {},
   "outputs": [
    {
     "data": {
      "text/plain": [
       "[188, 437, 4485]"
      ]
     },
     "execution_count": 19,
     "metadata": {},
     "output_type": "execute_result"
    }
   ],
   "source": [
    "lingue_parlate = {}\n",
    "movies.apply(lingue_film, axis = 1)\n",
    "[lingue_parlate['it'], lingue_parlate['fr'], lingue_parlate['en']]"
   ]
  },
  {
   "cell_type": "markdown",
   "metadata": {},
   "source": [
    "10) For each company and each decade, compute the overall revenue."
   ]
  },
  {
   "cell_type": "code",
   "execution_count": 20,
   "metadata": {
    "collapsed": true
   },
   "outputs": [],
   "source": [
    "movies4 = movies[(movies.release_date.notnull())]\n",
    "movies4 = movies4.reset_index()\n",
    "del movies4['index']"
   ]
  },
  {
   "cell_type": "code",
   "execution_count": 21,
   "metadata": {
    "collapsed": true
   },
   "outputs": [],
   "source": [
    "def estrai_decade(data):\n",
    "    assert re.search('\\d\\d\\d\\d\\-\\d\\d\\-\\d\\d', data)\n",
    "    return(data[0:3]+'0')"
   ]
  },
  {
   "cell_type": "code",
   "execution_count": 22,
   "metadata": {
    "collapsed": true
   },
   "outputs": [],
   "source": [
    "movies4['decade'] = movies4.release_date.apply(estrai_decade)"
   ]
  },
  {
   "cell_type": "code",
   "execution_count": 23,
   "metadata": {
    "collapsed": true
   },
   "outputs": [],
   "source": [
    "def proventi(film):\n",
    "    num_companies = len(film.production_companies)\n",
    "    for i in list(range(0, num_companies)):\n",
    "        company = film.production_companies[i]['name']\n",
    "        if company in list(companies_revenues.keys()):\n",
    "            if film.decade in list(companies_revenues[company].keys()):\n",
    "                companies_revenues[company][film.decade] += film.revenue\n",
    "            else:\n",
    "                companies_revenues[company][film.decade] = film.revenue\n",
    "        else:\n",
    "            companies_revenues[company] = {}\n",
    "            companies_revenues[company][film.decade] = film.revenue"
   ]
  },
  {
   "cell_type": "code",
   "execution_count": 24,
   "metadata": {},
   "outputs": [
    {
     "data": {
      "text/plain": [
       "{'1930': 4000000,\n",
       " '1940': 13800000,\n",
       " '1950': 68500000,\n",
       " '1960': 517223175,\n",
       " '1970': 1384707749,\n",
       " '1980': 2095218605,\n",
       " '1990': 8184639428,\n",
       " '2000': 15889321197,\n",
       " '2010': 11199741155}"
      ]
     },
     "execution_count": 24,
     "metadata": {},
     "output_type": "execute_result"
    }
   ],
   "source": [
    "companies_revenues = {}\n",
    "movies4.apply(proventi, axis = 1)\n",
    "companies_revenues['Twentieth Century Fox Film Corporation']"
   ]
  },
  {
   "cell_type": "markdown",
   "metadata": {},
   "source": [
    "11) For each decade, compute the company with maximum revenue."
   ]
  },
  {
   "cell_type": "code",
   "execution_count": 25,
   "metadata": {
    "collapsed": true
   },
   "outputs": [],
   "source": [
    "def proventi2(film):    \n",
    "    num_companies = len(film.production_companies)\n",
    "    if film.decade in list(rev2.keys()):\n",
    "        for i in list(range(0, num_companies)):\n",
    "            company = film.production_companies[i]['name']\n",
    "            if company in list(rev2[film.decade].keys()):\n",
    "                rev2[film.decade][company] += film.revenue\n",
    "            else:\n",
    "                rev2[film.decade][company] = film.revenue\n",
    "    else:\n",
    "        rev2[film.decade]={}\n",
    "        for i in list(range(0, num_companies)):\n",
    "            company = film.production_companies[i]['name']\n",
    "            rev2[film.decade][company] = film.revenue"
   ]
  },
  {
   "cell_type": "code",
   "execution_count": 26,
   "metadata": {},
   "outputs": [
    {
     "name": "stdout",
     "output_type": "stream",
     "text": [
      "2000\tWarner Bros.\n",
      "\t22897419289\n",
      "2010\tUniversal Pictures\n",
      "\t15521006459\n",
      "1990\tParamount Pictures\n",
      "\t8824732067\n",
      "1980\tParamount Pictures\n",
      "\t4431144486\n",
      "1970\tUnited Artists\n",
      "\t1392271577\n",
      "1960\tEon Productions\n",
      "\t598134765\n",
      "1940\tWalt Disney Productions\n",
      "\t351747150\n",
      "1920\tMetro-Goldwyn-Mayer (MGM)\n",
      "\t26358000\n",
      "1930\tSelznick International Pictures\n",
      "\t400176459\n",
      "1950\tMetro-Goldwyn-Mayer (MGM)\n",
      "\t73770324\n",
      "1910\tTriangle Film Corporation\n",
      "\t8394751\n"
     ]
    }
   ],
   "source": [
    "rev2 = {}\n",
    "movies4.apply(proventi2, axis = 1)\n",
    "for mykey in rev2:\n",
    "    massimo = max(rev2[mykey], key=rev2[mykey].get)\n",
    "    print(mykey + \"\\t\" + massimo + \"\\n\\t\" + str(rev2[mykey][massimo]))"
   ]
  },
  {
   "cell_type": "code",
   "execution_count": 44,
   "metadata": {},
   "outputs": [
    {
     "name": "stdout",
     "output_type": "stream",
     "text": [
      "[('2000', 'Warner Bros.', 22897419289)]\n",
      "[('2010', 'Universal Pictures', 15521006459)]\n",
      "[('1990', 'Paramount Pictures', 8824732067)]\n",
      "[('1980', 'Paramount Pictures', 4431144486)]\n",
      "[('1970', 'United Artists', 1392271577)]\n",
      "[('1960', 'Eon Productions', 598134765)]\n",
      "[('1940', 'Walt Disney Productions', 351747150)]\n",
      "[('1920', 'Metro-Goldwyn-Mayer (MGM)', 26358000)]\n",
      "[('1930', 'Selznick International Pictures', 400176459), ('1930', 'Metro-Goldwyn-Mayer (MGM)', 400176459)]\n",
      "[('1950', 'Metro-Goldwyn-Mayer (MGM)', 73770324)]\n",
      "[('1910', 'Triangle Film Corporation', 8394751), ('1910', 'Wark Producing Corp.', 8394751)]\n"
     ]
    }
   ],
   "source": [
    "rev2 = {}\n",
    "movies4.apply(proventi2, axis = 1)\n",
    "for mykey in rev2:\n",
    "    max_value = max(rev2[mykey].values())\n",
    "    max_result = [(mykey, key, max_value) for key in rev2[mykey] if rev2[mykey][key] == max_value]\n",
    "    print (max_result)"
   ]
  },
  {
   "cell_type": "markdown",
   "metadata": {},
   "source": [
    "12) In each year, how many movies have revenue smaller than the budget?"
   ]
  },
  {
   "cell_type": "code",
   "execution_count": 27,
   "metadata": {
    "collapsed": true
   },
   "outputs": [],
   "source": [
    "movies5 = movies4[movies4.gross_margin<0]\n",
    "movies5 = movies5.reset_index()\n",
    "del movies5['index']\n",
    "movies5[\"year\"] = movies5.release_date.apply(estrai_anno)"
   ]
  },
  {
   "cell_type": "code",
   "execution_count": 28,
   "metadata": {},
   "outputs": [
    {
     "data": {
      "text/plain": [
       "year\n",
       "1927    1\n",
       "1947    1\n",
       "1948    1\n",
       "1954    1\n",
       "1962    1\n",
       "dtype: int64"
      ]
     },
     "execution_count": 28,
     "metadata": {},
     "output_type": "execute_result"
    }
   ],
   "source": [
    "movies5.groupby(\"year\").size().head()"
   ]
  }
 ],
 "metadata": {
  "kernelspec": {
   "display_name": "Python 3",
   "language": "python",
   "name": "python3"
  },
  "language_info": {
   "codemirror_mode": {
    "name": "ipython",
    "version": 3
   },
   "file_extension": ".py",
   "mimetype": "text/x-python",
   "name": "python",
   "nbconvert_exporter": "python",
   "pygments_lexer": "ipython3",
   "version": "3.6.3"
  }
 },
 "nbformat": 4,
 "nbformat_minor": 2
}
