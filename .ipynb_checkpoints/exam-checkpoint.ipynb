{
 "cells": [
  {
   "cell_type": "markdown",
   "metadata": {},
   "source": [
    "### PROGETTO FOUNDATION OF COMPUTER SCIENCE"
   ]
  },
  {
   "cell_type": "code",
   "execution_count": 1,
   "metadata": {
    "collapsed": true
   },
   "outputs": [],
   "source": [
    "import pandas as pd\n",
    "import numpy as np\n",
    "import ast\n",
    "import re\n",
    "credits = pd.read_csv(\"C:/Users/alexc/Documents/python_lab/movies/tmdb_5000_credits.csv\")\n",
    "credits.cast = credits.cast.apply(ast.literal_eval)\n",
    "credits.crew = credits.crew.apply(ast.literal_eval)\n",
    "movies = pd.read_csv(\"C:/Users/alexc/Documents/python_lab/movies/tmdb_5000_movies.csv\")\n",
    "movies.genres = movies.genres.apply(ast.literal_eval)\n",
    "movies.keywords = movies.keywords.apply(ast.literal_eval)\n",
    "movies.production_companies = movies.production_companies.apply(ast.literal_eval)\n",
    "movies.production_countries = movies.production_countries.apply(ast.literal_eval)\n",
    "movies.spoken_languages = movies.spoken_languages.apply(ast.literal_eval)"
   ]
  },
  {
   "cell_type": "markdown",
   "metadata": {},
   "source": [
    "1) For each movie, compute the number of cast members."
   ]
  },
  {
   "cell_type": "code",
   "execution_count": 75,
   "metadata": {
    "collapsed": true
   },
   "outputs": [],
   "source": [
    "def cast_members(movie):    \n",
    "    return [movie.title,len(movie.cast)]"
   ]
  },
  {
   "cell_type": "code",
   "execution_count": 76,
   "metadata": {},
   "outputs": [
    {
     "data": {
      "text/plain": [
       "0                                      [Avatar, 83]\n",
       "1    [Pirates of the Caribbean: At World's End, 34]\n",
       "2                                     [Spectre, 83]\n",
       "3                      [The Dark Knight Rises, 158]\n",
       "4                                 [John Carter, 27]\n",
       "dtype: object"
      ]
     },
     "execution_count": 76,
     "metadata": {},
     "output_type": "execute_result"
    }
   ],
   "source": [
    "num_cast = credits.apply(cast_members, axis=1)\n",
    "num_cast.head()"
   ]
  },
  {
   "cell_type": "markdown",
   "metadata": {},
   "source": [
    "2) How many movies do not have a homepage?"
   ]
  },
  {
   "cell_type": "code",
   "execution_count": 3,
   "metadata": {},
   "outputs": [
    {
     "data": {
      "text/plain": [
       "3091"
      ]
     },
     "execution_count": 3,
     "metadata": {},
     "output_type": "execute_result"
    }
   ],
   "source": [
    "movies.homepage.isnull().sum()"
   ]
  },
  {
   "cell_type": "markdown",
   "metadata": {},
   "source": [
    "3) For each year, how many movies do not have a homepage?"
   ]
  },
  {
   "cell_type": "code",
   "execution_count": 114,
   "metadata": {},
   "outputs": [],
   "source": [
    "movies2 = movies[(movies.release_date.notnull())&(movies.homepage.isnull())]\n",
    "movies2 = movies2.reset_index()"
   ]
  },
  {
   "cell_type": "code",
   "execution_count": 115,
   "metadata": {
    "collapsed": true
   },
   "outputs": [],
   "source": [
    "def estrai_anno(data):\n",
    "    assert re.search('\\d\\d\\d\\d\\-\\d\\d\\-\\d\\d', data)\n",
    "    return(data[0:4]) "
   ]
  },
  {
   "cell_type": "code",
   "execution_count": 117,
   "metadata": {},
   "outputs": [
    {
     "data": {
      "text/plain": [
       "year\n",
       "1916    1\n",
       "1925    1\n",
       "1927    1\n",
       "1929    2\n",
       "1930    1\n",
       "dtype: int64"
      ]
     },
     "execution_count": 117,
     "metadata": {},
     "output_type": "execute_result"
    }
   ],
   "source": [
    "movies2['year'] = movies2.release_date.apply(estrai_anno)\n",
    "movies2.groupby('year').size().head()"
   ]
  },
  {
   "cell_type": "markdown",
   "metadata": {},
   "source": [
    "4) Extract the domain of each homepage."
   ]
  },
  {
   "cell_type": "code",
   "execution_count": 70,
   "metadata": {
    "collapsed": true
   },
   "outputs": [],
   "source": [
    "movies3 = movies[movies.homepage.notnull()]\n",
    "movies3 = movies3.reset_index()"
   ]
  },
  {
   "cell_type": "code",
   "execution_count": 101,
   "metadata": {},
   "outputs": [],
   "source": [
    "def estrai_dominio(url):\n",
    "    assert re.search('^https*://', url)\n",
    "    website = re.split('[/ ]+', url)[1]\n",
    "    assert re.search('\\.[a-z]+/*$', website)\n",
    "    return(re.search('\\.[a-z]+/*$', website).group(0))"
   ]
  },
  {
   "cell_type": "code",
   "execution_count": 118,
   "metadata": {},
   "outputs": [
    {
     "data": {
      "text/plain": [
       "dominio\n",
       ".au    3\n",
       ".br    1\n",
       ".ca    5\n",
       ".cc    2\n",
       ".ch    1\n",
       "dtype: int64"
      ]
     },
     "execution_count": 118,
     "metadata": {},
     "output_type": "execute_result"
    }
   ],
   "source": [
    "movies3['dominio'] = movies3.homepage.apply(estrai_dominio)\n",
    "movies3.groupby('dominio').size().head()"
   ]
  },
  {
   "cell_type": "code",
   "execution_count": 119,
   "metadata": {},
   "outputs": [
    {
     "data": {
      "text/html": [
       "<div>\n",
       "<style>\n",
       "    .dataframe thead tr:only-child th {\n",
       "        text-align: right;\n",
       "    }\n",
       "\n",
       "    .dataframe thead th {\n",
       "        text-align: left;\n",
       "    }\n",
       "\n",
       "    .dataframe tbody tr th {\n",
       "        vertical-align: top;\n",
       "    }\n",
       "</style>\n",
       "<table border=\"1\" class=\"dataframe\">\n",
       "  <thead>\n",
       "    <tr style=\"text-align: right;\">\n",
       "      <th></th>\n",
       "      <th>index</th>\n",
       "      <th>budget</th>\n",
       "      <th>genres</th>\n",
       "      <th>homepage</th>\n",
       "      <th>id</th>\n",
       "      <th>keywords</th>\n",
       "      <th>original_language</th>\n",
       "      <th>original_title</th>\n",
       "      <th>overview</th>\n",
       "      <th>popularity</th>\n",
       "      <th>...</th>\n",
       "      <th>release_date</th>\n",
       "      <th>revenue</th>\n",
       "      <th>runtime</th>\n",
       "      <th>spoken_languages</th>\n",
       "      <th>status</th>\n",
       "      <th>tagline</th>\n",
       "      <th>title</th>\n",
       "      <th>vote_average</th>\n",
       "      <th>vote_count</th>\n",
       "      <th>dominio</th>\n",
       "    </tr>\n",
       "  </thead>\n",
       "  <tbody>\n",
       "    <tr>\n",
       "      <th>1403</th>\n",
       "      <td>3730</td>\n",
       "      <td>0</td>\n",
       "      <td>[{'id': 53, 'name': 'Thriller'}, {'id': 9648, ...</td>\n",
       "      <td>http://www.cargoderfilm.ch http://cargothemovi...</td>\n",
       "      <td>34069</td>\n",
       "      <td>[{'id': 3388, 'name': 'space colony'}, {'id': ...</td>\n",
       "      <td>de</td>\n",
       "      <td>Cargo</td>\n",
       "      <td>The story of CARGO takes place on rusty space-...</td>\n",
       "      <td>10.142218</td>\n",
       "      <td>...</td>\n",
       "      <td>2009-09-24</td>\n",
       "      <td>0</td>\n",
       "      <td>120.0</td>\n",
       "      <td>[{'iso_639_1': 'fr', 'name': 'Français'}, {'is...</td>\n",
       "      <td>Released</td>\n",
       "      <td>NaN</td>\n",
       "      <td>Cargo</td>\n",
       "      <td>5.9</td>\n",
       "      <td>140</td>\n",
       "      <td>.ch</td>\n",
       "    </tr>\n",
       "  </tbody>\n",
       "</table>\n",
       "<p>1 rows × 22 columns</p>\n",
       "</div>"
      ],
      "text/plain": [
       "      index  budget                                             genres  \\\n",
       "1403   3730       0  [{'id': 53, 'name': 'Thriller'}, {'id': 9648, ...   \n",
       "\n",
       "                                               homepage     id  \\\n",
       "1403  http://www.cargoderfilm.ch http://cargothemovi...  34069   \n",
       "\n",
       "                                               keywords original_language  \\\n",
       "1403  [{'id': 3388, 'name': 'space colony'}, {'id': ...                de   \n",
       "\n",
       "     original_title                                           overview  \\\n",
       "1403          Cargo  The story of CARGO takes place on rusty space-...   \n",
       "\n",
       "      popularity   ...    release_date revenue runtime  \\\n",
       "1403   10.142218   ...      2009-09-24       0   120.0   \n",
       "\n",
       "                                       spoken_languages    status tagline  \\\n",
       "1403  [{'iso_639_1': 'fr', 'name': 'Français'}, {'is...  Released     NaN   \n",
       "\n",
       "      title vote_average vote_count  dominio  \n",
       "1403  Cargo          5.9        140      .ch  \n",
       "\n",
       "[1 rows x 22 columns]"
      ]
     },
     "execution_count": 119,
     "metadata": {},
     "output_type": "execute_result"
    }
   ],
   "source": [
    "def multi_homepage(url):\n",
    "    urls = re.split(' ', url)\n",
    "    if len(urls) == 1:\n",
    "        return(False)\n",
    "    else:\n",
    "        return(True)\n",
    "multi = movies3.homepage.apply(multi_homepage)\n",
    "movies3[multi]"
   ]
  },
  {
   "cell_type": "markdown",
   "metadata": {},
   "source": [
    "5) Extract a set of normalized tables. That is, each entry of a normalized table must contain exactly one value (not a list or a dictionary)."
   ]
  },
  {
   "cell_type": "markdown",
   "metadata": {},
   "source": [
    "6) For each movie, compute the gross margin (difference between revenue and budget)."
   ]
  },
  {
   "cell_type": "markdown",
   "metadata": {},
   "source": [
    "7) For each movie, compute the number of crew members."
   ]
  },
  {
   "cell_type": "markdown",
   "metadata": {},
   "source": [
    "8) For each movie, compute the number of directors."
   ]
  },
  {
   "cell_type": "markdown",
   "metadata": {},
   "source": [
    "9) For each language, compute the number of movies where such language is spoken."
   ]
  },
  {
   "cell_type": "markdown",
   "metadata": {},
   "source": [
    "10) For each company and each decade, compute the overall revenue."
   ]
  },
  {
   "cell_type": "markdown",
   "metadata": {},
   "source": [
    "11) For each decade, compute the company with maximum revenue."
   ]
  },
  {
   "cell_type": "markdown",
   "metadata": {},
   "source": [
    "12) In each year, how many movies have revenue smaller than the budget?"
   ]
  },
  {
   "cell_type": "code",
   "execution_count": null,
   "metadata": {
    "collapsed": true
   },
   "outputs": [],
   "source": []
  }
 ],
 "metadata": {
  "kernelspec": {
   "display_name": "Python 3",
   "language": "python",
   "name": "python3"
  },
  "language_info": {
   "codemirror_mode": {
    "name": "ipython",
    "version": 3
   },
   "file_extension": ".py",
   "mimetype": "text/x-python",
   "name": "python",
   "nbconvert_exporter": "python",
   "pygments_lexer": "ipython3",
   "version": "3.6.3"
  }
 },
 "nbformat": 4,
 "nbformat_minor": 2
}
